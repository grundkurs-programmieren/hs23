{
 "cells": [
  {
   "cell_type": "markdown",
   "id": "4df657f7-6cac-4007-9ea8-327cf3ff5541",
   "metadata": {},
   "source": [
    "<img src=\"https://i.imgur.com/XSzy00d.png\" style=\"float:right;width:150px\">\n",
    "\n",
    "**Geoinformationssystem und Python**\n",
    "\n",
    "# Einleitung\n",
    "\n",
    "## Lernziele\n",
    "\n",
    "- Sie wissen, was **georeferenzierte Daten** sind und was ein **GIS** ist\n",
    "- Sie kennen das Datenformat **GeoJSON**\n",
    "- Sie können mittels `folium` Daten auf einer **Karte visualisieren**\n",
    "- Sie kennen **`geopandas`** um GeoJSON Dateien weiterzuverarbeiten"
   ]
  },
  {
   "cell_type": "markdown",
   "id": "2ce87882-ef06-41e7-95b2-24e18300e755",
   "metadata": {},
   "source": [
    "# Georeferenzierte Daten\n",
    "\n",
    "Ein wichtiger Subtyp von Daten sind die **georeferenzierten Daten**. Solche Daten haben einen Bezug zu einem geografischen Ort. Dieser ist meist über ein Koordinatenpaar angegeben. Viele für Menschen wichtige Daten haben einen Bezug zu einem Ort (Temperatur, Haltestellen, Läden, Point of Interests, etc.) und darum spiele georeferenzierte Daten eine wichtige Rolle.\n",
    "\n",
    "Systeme, die mit georeferenzierten Daten arbeiten, werden als **GIS** (Grafische Informationssysteme) bezeichnet."
   ]
  },
  {
   "cell_type": "markdown",
   "id": "522727ee-ab87-4c4b-8cdd-444ac9793cea",
   "metadata": {},
   "source": [
    "# GeoJSON\n",
    "\n",
    "> GeoJSON ist ein offenes Format, um geografische Daten nach der Simple-Feature-Access-Spezifikation zu repräsentieren. Dafür wird die JavaScript Object Notation verwendet.\n",
    "> \n",
    "> Mehr Informationen zu GeoJSON gibt es auf der [Wikipedia Seite](https://de.wikipedia.org/wiki/GeoJSON).\n",
    "\n",
    "## Einführung\n",
    "\n",
    "Um innerhalb eines Jupyter Notebook dieses Format visuell darzustellen, existiert eine  entsprechendes Modul [`jupyterlab-geojson`](https://pypi.org/project/jupyterlab-geojson/). Da nach der Installation ein Neustarten des Jupyterlab Server nötig ist, wurde das Modul bereits vorgängig installiert. "
   ]
  },
  {
   "cell_type": "code",
   "execution_count": null,
   "id": "92ced6f9-26b8-4941-81a0-9ae8e4d9f312",
   "metadata": {},
   "outputs": [],
   "source": [
    "from IPython.display import GeoJSON"
   ]
  },
  {
   "cell_type": "markdown",
   "id": "7a637812-3375-4e0a-a84e-151801e3ba68",
   "metadata": {},
   "source": [
    "Die Funktion `GeoJSON` erwartet einen Parameter, sonst kommt es zu einer leeren Ausgabe:"
   ]
  },
  {
   "cell_type": "code",
   "execution_count": null,
   "id": "9b6eb757-d964-49bb-b682-536dffd80eb8",
   "metadata": {
    "tags": []
   },
   "outputs": [],
   "source": [
    "GeoJSON()"
   ]
  },
  {
   "cell_type": "markdown",
   "id": "55d832cb-fa20-4638-8f82-4a3cc6137b66",
   "metadata": {},
   "source": [
    "Der Parameter muss ein valides `GeoJSON` Objekt sein. Hier ein Beispiel:"
   ]
  },
  {
   "cell_type": "code",
   "execution_count": null,
   "id": "3391e2ef-baf0-407e-a722-7080026d26d3",
   "metadata": {
    "tags": []
   },
   "outputs": [],
   "source": [
    "GeoJSON({\n",
    "    \"coordinates\": [\n",
    "      7.440608559129629, # longitude\n",
    "      46.942366944944524 # latitude\n",
    "    ],\n",
    "    \"type\": \"Point\"\n",
    "})"
   ]
  },
  {
   "cell_type": "markdown",
   "id": "69f096ec-27bd-46d8-a3d3-010926e24d36",
   "metadata": {},
   "source": [
    "Hier übergeben wir also ein Dictionary, welches zwei Keys, `coordinates` und `type` enthält. `coordinates` ist wiederum eine Liste welche zwei Floats enthält welche die [**longitude**](https://de.wikipedia.org/wiki/Geographische_Länge) resp. [**latitude**](https://de.wikipedia.org/wiki/Geographische_Breite) des Punktes repräsentieren. "
   ]
  },
  {
   "cell_type": "markdown",
   "id": "444f8cc1-60d2-4e69-a7a2-4a01ba5f9ffe",
   "metadata": {},
   "source": [
    "<div class=\"gk-exercise\">\n",
    "\n",
    "<img src=\"https://i.imgur.com/JyhBeDB.png\" class=\"gk-exercise-image\">\n",
    "\n",
    "<span class=\"gk-exercise-label\">Aufgabe</span> \n",
    "\n",
    "- Öffne den folgenden [Link](https://geojson.io) in einem neuen Fenster/Tab. \n",
    "- Suche nach **deiner** Adresse und füge ein Marker hinzu\n",
    "- kopiere das resultierende GeoJSON in die folgende Codezelle\n",
    "\n",
    "<details>\n",
    "    <img src=\"https://i.imgur.com/YdpkyZ9.gif\">\n",
    "</details>\n",
    "    \n",
    "</div>"
   ]
  },
  {
   "cell_type": "code",
   "execution_count": null,
   "id": "3a398c86-885e-4de3-94f5-67b8169ca55d",
   "metadata": {
    "deletable": false,
    "nbgrader": {
     "cell_type": "code",
     "checksum": "d107c731c829fc10e825bfd4969a3901",
     "grade": false,
     "grade_id": "cell-9d204a414735ada3",
     "locked": false,
     "schema_version": 3,
     "solution": true,
     "task": false
    },
    "tags": []
   },
   "outputs": [],
   "source": [
    "# YOUR CODE HERE"
   ]
  },
  {
   "cell_type": "markdown",
   "id": "94a9a2b6-c9bc-4eb1-b400-aac0003ed312",
   "metadata": {},
   "source": [
    "Dieses Dictionary besteht auf der obersten Ebene aus den Keys `type` und `features`. Der Value von `features` ist eine Liste, dadurch können wir mehrere \"Features\", d.h. Punkte, Linien, Kreise, usw., auf einer Karte darstellen."
   ]
  },
  {
   "cell_type": "markdown",
   "id": "da8961f0-51d6-4a9f-a64a-46d2c749e279",
   "metadata": {},
   "source": [
    "<div class=\"gk-exercise\">\n",
    "\n",
    "<img src=\"https://i.imgur.com/JyhBeDB.png\" class=\"gk-exercise-image\">\n",
    "\n",
    "<span class=\"gk-exercise-label\">Zusatz Aufgabe</span>\n",
    "\n",
    "- Gehe zurück zu [geojson.io](geojson.io)\n",
    "- Füge auf geojson.io weitere Elemente hinzu\n",
    "- kopiere das resultierende GeoJSON in die folgende Codezelle\n",
    "    \n",
    "</div>"
   ]
  },
  {
   "cell_type": "code",
   "execution_count": null,
   "id": "702390ec-5c63-4aa5-a5d0-869b6bee2f78",
   "metadata": {
    "deletable": false,
    "nbgrader": {
     "cell_type": "code",
     "checksum": "ad6b51ae5acb1c0cffff65865dbf2bda",
     "grade": false,
     "grade_id": "cell-439701147c9ee645",
     "locked": false,
     "schema_version": 3,
     "solution": true,
     "task": false
    },
    "tags": []
   },
   "outputs": [],
   "source": [
    "# YOUR CODE HERE"
   ]
  },
  {
   "cell_type": "markdown",
   "id": "c1238989-58e0-49d1-bf6c-72c475e9b4fe",
   "metadata": {},
   "source": [
    "***"
   ]
  },
  {
   "cell_type": "markdown",
   "id": "78ce18ea-3c6e-44fc-9d11-5743dd26acc3",
   "metadata": {},
   "source": [
    "## Suchfunktion\n",
    "\n",
    "Als nächstes soll eine eigene Suchfunktion umgesetzt werden. Dazu werden die folgenden Konzepte verwendet:\n",
    "\n",
    "- Zugriff auf eine Web API\n",
    "- Arbeiten mit einem Dictionary \n",
    "- Funktionen definieren\n",
    "\n",
    "Um die Aufgabe ein wenig zu vereinfachen werden wir uns auf die Schweiz beschränken. Das [Bundesamt für Landestopografie](https://www.swisstopo.admin.ch/de/home.html) bietet uns genau eine solche API an: \n",
    "\n",
    "> https://api3.geo.admin.ch/services/sdiservices.html#search\n",
    "\n",
    "Wir werden die [Location Search](https://api3.geo.admin.ch/services/sdiservices.html#id25) API verwenden. Gemäss den Angaben in der Dokumentation müssen wir gewisse Parameter bei jeder Anfrage übergeben. Entsprechend definieren wir ein `API` Variable:"
   ]
  },
  {
   "cell_type": "code",
   "execution_count": null,
   "id": "ac16b511-0e21-4ced-911c-ee9ac01c798d",
   "metadata": {},
   "outputs": [],
   "source": [
    "API = \"https://api3.geo.admin.ch/rest/services/api/SearchServer?type=locations&origins=address,parcel&searchText=\" "
   ]
  },
  {
   "cell_type": "markdown",
   "id": "e23ed68b-1a5a-458c-b962-8c95d1194958",
   "metadata": {},
   "source": [
    "> Wir schreiben `API` gross um zu zeigen, dass es sich hier um eine [Konstante](https://realpython.com/python-constants/#user-defined-constants) handelt. Also eine Variable welche ihren Wert zur Laufzeit unseres Programms nicht ändert. "
   ]
  },
  {
   "cell_type": "markdown",
   "id": "ed38895e-54b0-47e6-9ed9-67d5ab01fb15",
   "metadata": {},
   "source": [
    "<details>\n",
    "  Alles was bei einer URL nach einem <code>?</code> geschrieben wird, wird als <a href=\"https://wiki.selfhtml.org/wiki/URL-Parameter\">Get-Parameter</a> bezeichnet. In unserem Fall sind das die Parameter:\n",
    "  <ul>\n",
    "    <li><code>type</code> mit dem Wert: <code>locations</code></li>\n",
    "    <li><code>origins</code> mit dem Wert: <code>address,parcel</code></li>\n",
    "    <li><code>searchText</code></li>\n",
    "  </ul>\n",
    "  die einzelnen Parameter werden mittels <code>,</code> separiert. \n",
    "</details>"
   ]
  },
  {
   "cell_type": "markdown",
   "id": "b84877c5-1fcc-4c79-a60f-782cf21fceb2",
   "metadata": {},
   "source": [
    "Um schliesslich unseren Request `url` zu erhalten fügen wir eine entsprechende Adresse hinzu:"
   ]
  },
  {
   "cell_type": "code",
   "execution_count": null,
   "id": "3e89d6a6-c5b6-4031-af3f-49d0cd4702f2",
   "metadata": {},
   "outputs": [],
   "source": [
    "url = API + \"Brückenstrasse 73\""
   ]
  },
  {
   "cell_type": "markdown",
   "id": "96d88bcf-3b73-47fa-a3bf-b618b179d215",
   "metadata": {},
   "source": [
    "> d.h. wir setzten den Wert für den `searchText` Get-Parameter, siehe Details.\n",
    "\n",
    "und können dann wie gewohnt mittels dem `requests` Modul eine Anfrage starten:"
   ]
  },
  {
   "cell_type": "code",
   "execution_count": null,
   "id": "6c0472e2-ed0c-46b6-b459-33b07621e215",
   "metadata": {},
   "outputs": [],
   "source": [
    "import requests\n",
    "response = requests.get(url).json()"
   ]
  },
  {
   "cell_type": "markdown",
   "id": "b3c118a1-daf5-436f-927a-2411b701b034",
   "metadata": {},
   "source": [
    "gemäss der [Dokumentation](https://api3.geo.admin.ch/services/sdiservices.html#id26) erhalten wir ein JSON Objekt zurück. Deshalb können wir direkt mit der `json` Methode die Antwort zu einem JSON konvertieren"
   ]
  },
  {
   "cell_type": "code",
   "execution_count": null,
   "id": "8f0563d9-1e8e-447c-b2aa-acdd80e3c6f9",
   "metadata": {},
   "outputs": [],
   "source": [
    "response"
   ]
  },
  {
   "cell_type": "markdown",
   "id": "faae3450-6b08-4d87-aa63-ce759b05e0eb",
   "metadata": {},
   "source": [
    "Das hat genau die Struktur welche in der Dokumentation beschrieben wird. "
   ]
  },
  {
   "cell_type": "markdown",
   "id": "3dfff0c8-7b0e-45bf-aeb5-28f6b6618746",
   "metadata": {
    "tags": []
   },
   "source": [
    "<div class=\"gk-exercise\">\n",
    "\n",
    "<img src=\"https://i.imgur.com/JyhBeDB.png\" class=\"gk-exercise-image\">\n",
    "\n",
    "<span class=\"gk-exercise-label\">Aufgabe</span> \n",
    "\n",
    "Orte/Punkte auf einer Landkarte werden mit zwei Koordinaten angegeben. Im JSON, das wir von unserem Request zurückerhalten, sind diese ziemlich verschachtelt angegeben. Diese Koordinaten (`lon` und `lat`) sollen aus dem JSON extrahiert werden, um anschliessend an unsere Funktion `GeoJSON` übergeben werden zu können.\n",
    "\n",
    "Schreibe den Code um auf die entsprechenden Werte zuzugreifen:\n",
    "\n",
    "<details>\n",
    "    <summary>Tipps</summary>\n",
    "    Versuche Schrittweise vorzugehen. <code>lon</code> und <code>lat</code> sind Schlüssel des Dictionary <code>attrs</code>, was wiederum ...\n",
    "    <details>\n",
    "    ... Element jedes Listenelements des <code>results</code> Schlüssel ist.\n",
    "    </details>\n",
    "</details>\n",
    "\n",
    "</div>"
   ]
  },
  {
   "cell_type": "code",
   "execution_count": null,
   "id": "b94146a1-8432-4399-b2f5-997c0bd5101a",
   "metadata": {
    "deletable": false,
    "nbgrader": {
     "cell_type": "code",
     "checksum": "dfd873c460ca3ff8aac1130c028312fc",
     "grade": false,
     "grade_id": "cell-72cbe53c27df5fb1",
     "locked": false,
     "schema_version": 3,
     "solution": true,
     "task": false
    },
    "tags": []
   },
   "outputs": [],
   "source": [
    "# YOUR CODE HERE\n",
    "\n",
    "GeoJSON({\n",
    "  \"type\": \"FeatureCollection\",\n",
    "  \"features\": [\n",
    "    {\n",
    "      \"type\": \"Feature\",\n",
    "      \"properties\": {},\n",
    "      \"geometry\": {\n",
    "        \"coordinates\": [\n",
    "          lon,\n",
    "          lat\n",
    "        ],\n",
    "        \"type\": \"Point\"\n",
    "      }\n",
    "    }\n",
    "  ]\n",
    "})"
   ]
  },
  {
   "cell_type": "markdown",
   "id": "1a7f9a16-f532-4b3d-aef3-1beacb90b2bf",
   "metadata": {},
   "source": [
    "Nun können wir das zu einer Funktion zusammenfassen:"
   ]
  },
  {
   "cell_type": "code",
   "execution_count": null,
   "id": "c0cc7e7b-5949-49d1-a033-2f660d2ea3bf",
   "metadata": {
    "deletable": false,
    "nbgrader": {
     "cell_type": "code",
     "checksum": "142b93b284832d926648d770cc7ca23d",
     "grade": false,
     "grade_id": "cell-c849c711285fe73b",
     "locked": false,
     "schema_version": 3,
     "solution": true,
     "task": false
    },
    "tags": []
   },
   "outputs": [],
   "source": [
    "def location_search(search_text):\n",
    "    # replace ist notwenig, untersuche wie sich die Resultate verändern\n",
    "    # wenn auf replace verzichtet wird. \n",
    "    url = API + search_text.replace(\" \", \",\")\n",
    "    response = requests.get(url).json()\n",
    "    # YOUR CODE HERE\n",
    "    return lat, lon"
   ]
  },
  {
   "cell_type": "markdown",
   "id": "16f3f8e8-122f-4e5f-ba6c-78373023c4ba",
   "metadata": {},
   "source": [
    "***"
   ]
  },
  {
   "cell_type": "markdown",
   "id": "dc89aba3-1fd2-4d9e-8bea-3b425923ee12",
   "metadata": {},
   "source": [
    "<div class=\"gk-exercise\">\n",
    "\n",
    "<img src=\"https://i.imgur.com/JyhBeDB.png\" class=\"gk-exercise-image\">\n",
    "\n",
    "<span class=\"gk-exercise-label\">Aufgabe</span> \n",
    "\n",
    "\n",
    "Verwende die `input` Funktion oder das [Text Widget](https://ipywidgets.readthedocs.io/en/stable/examples/Widget%20List.html#Text) um eine Adresssuche zu implementieren. \n",
    "    \n",
    "</div>"
   ]
  },
  {
   "cell_type": "code",
   "execution_count": null,
   "id": "ef29482d-0028-4743-8a4e-411b480c890e",
   "metadata": {
    "deletable": false,
    "nbgrader": {
     "cell_type": "code",
     "checksum": "8cec43ce96a1a03e4142ec30f34ec2b8",
     "grade": false,
     "grade_id": "cell-a40a049199ed15eb",
     "locked": false,
     "schema_version": 3,
     "solution": true,
     "task": false
    },
    "tags": []
   },
   "outputs": [],
   "source": [
    "# YOUR CODE HERE"
   ]
  },
  {
   "cell_type": "markdown",
   "id": "894c245a-d772-4134-8b25-d84557e4aa27",
   "metadata": {},
   "source": [
    "***"
   ]
  },
  {
   "cell_type": "markdown",
   "id": "012618ba-9154-4185-a1ad-d08d98780d05",
   "metadata": {},
   "source": [
    "## Zusatz\n",
    "\n",
    "Hier einige Ideen wie die `location_search` erweitert werden könnte:\n",
    "\n",
    "- Passe die Funktion an, dass sie `lat` und `lon` für sämtliche Resultate und nicht nur das erste zurückgibt. \n",
    "    - Stelle alle **Resultate** auf der Karte dar. \n",
    "- Gib eine Fehlermeldung zurück falls kein Standort für eine Adresse gefunden wird\n",
    "\n",
    "> Solltest du diese Änderungen implementieren, wähle einen anderen Namen für deine Funktion, z.B. `locations_search`. Andernfalls kann es in den folgenden Zellen zu Problemen kommen."
   ]
  },
  {
   "cell_type": "markdown",
   "id": "84f6400a-2952-4507-afd9-93a43c6c024c",
   "metadata": {},
   "source": [
    "# Folium\n",
    "\n",
    "> `folium` builds on the data wrangling strengths of the Python ecosystem and the mapping strengths of the leaflet.js library. Manipulate your data in Python, then visualize it in on a Leaflet map via folium.\n",
    "> \n",
    "> Weitere Infromationen zu `folium` auf der [Projekt Seite](https://python-visualization.github.io/folium/index.html)\n",
    "\n",
    "## Einführung\n",
    "\n",
    "Das Erstellen von GeoJSON Objekten wird zwar durch Tools wie [geojson.io](geojson.io) vereinfacht, richtig praktisch ist dieser Ansatz aber nicht. \n",
    "\n",
    "Wir werden nun das Modul `folium` kennenlernen, welches uns Methoden und Funktionen, d.h. eine API, bereitstellt um mit einer Karte zu interagieren. \n"
   ]
  },
  {
   "cell_type": "code",
   "execution_count": null,
   "id": "8792de2a-9014-4ce3-99dd-9917252dee66",
   "metadata": {
    "tags": []
   },
   "outputs": [],
   "source": [
    "import folium\n",
    "folium.Map(location=[lat, lon], zoom_start=17.0)"
   ]
  },
  {
   "cell_type": "markdown",
   "id": "df7f92ae-dde2-44ab-b9e6-d648c9e12253",
   "metadata": {},
   "source": [
    "Die Funktion `Map` liefert ein `Map` Objekt zurück. Da es sich um den letzten Ausdruck der Zelle handelt wird diese direkt angezeigt. Wir möchten jedoch mit dem `Map` Objekt weiterarbeiten, deshalb weisen wir das Objekt der Variable `m` zu:"
   ]
  },
  {
   "cell_type": "code",
   "execution_count": null,
   "id": "256f6cfd-3ac5-4384-8c79-19e3439319ae",
   "metadata": {},
   "outputs": [],
   "source": [
    "m = folium.Map(location=[lat, lon], zoom_start=17.0)"
   ]
  },
  {
   "cell_type": "markdown",
   "id": "d22973cd-5009-4fe0-aade-0e9c19d7e5fd",
   "metadata": {},
   "source": [
    "dadurch kommt es zu keiner Ausgabe, da der letzte Ausdruck nun eine Zuweisung ist. \n",
    "\n",
    "> Das Darstellen der Karte ist ein ressourcenintensiver Prozess. Wir können mit dem Objekt `m` arbeiten und erst zum Schluss dieses anzeigen. \n",
    "\n",
    "Um uns ein wenig mit `folium` vertraut zu machen werden wir als erstes unsere `location_search` Funktion verwenden um einen Marker auf der Karte darzustellen:"
   ]
  },
  {
   "cell_type": "code",
   "execution_count": null,
   "id": "5b7fc330-9c79-409b-a1f0-f32b1fb0f42d",
   "metadata": {
    "tags": []
   },
   "outputs": [],
   "source": [
    "search_text = input()\n",
    "lat, lon = location_search(search_text)\n",
    "folium.Marker(location=[lat, lon]).add_to(m)\n",
    "m"
   ]
  },
  {
   "cell_type": "markdown",
   "id": "4a80c61c-85d9-49d1-ad7d-9e1549453d69",
   "metadata": {},
   "source": [
    "Der Ausdruck `m` am Ende der Zelle führt wiederum zur Ausgabe der Karte"
   ]
  },
  {
   "cell_type": "markdown",
   "id": "5923b0b9-4694-4999-a2fb-1c9fe4604f91",
   "metadata": {},
   "source": [
    "<div class=\"gk-exercise\">\n",
    "\n",
    "<img src=\"https://i.imgur.com/JyhBeDB.png\" class=\"gk-exercise-image\">\n",
    "\n",
    "<span class=\"gk-exercise-label\">Aufgabe</span> \n",
    "\n",
    "- Führe die vorherige Zelle 2-3x aus und suche nach verschiedenen Adressen. \n",
    "- Versuche auf der Karte die Marker zu finden\n",
    "- Was stellst du fest?\n",
    "    \n",
    "</div>"
   ]
  },
  {
   "cell_type": "markdown",
   "id": "a707b27b-d2bd-4ee5-a135-efa4c1b0a4e4",
   "metadata": {
    "deletable": false,
    "jp-MarkdownHeadingCollapsed": true,
    "nbgrader": {
     "cell_type": "markdown",
     "checksum": "e2d136e702259d277c89160d83fd861c",
     "grade": true,
     "grade_id": "cell-4c83f8ebdc83963d",
     "locked": false,
     "points": 0,
     "schema_version": 3,
     "solution": true,
     "task": false
    },
    "tags": []
   },
   "source": [
    "YOUR ANSWER HERE"
   ]
  },
  {
   "cell_type": "markdown",
   "id": "9c01c18c-d64e-4c9b-8135-2160f0b59640",
   "metadata": {},
   "source": [
    "***"
   ]
  },
  {
   "cell_type": "markdown",
   "id": "3aa8f26b-4052-4be0-be60-45aed61ea49a",
   "metadata": {},
   "source": [
    "Wir können der Funktion `Marker` zusätzlich auch ein `popup` und `tooltip` Parameter übergeben:"
   ]
  },
  {
   "cell_type": "code",
   "execution_count": null,
   "id": "91d627e2-7864-4907-a37f-c39bcdc17e67",
   "metadata": {
    "tags": []
   },
   "outputs": [],
   "source": [
    "search_text = input()\n",
    "lat, lon = location_search(search_text)\n",
    "# Wir erstellen ein neues Karten Objekt\n",
    "m = folium.Map(location=[lat, lon], zoom_start=17.0)\n",
    "folium.Marker(location=[lat, lon], popup=search_text, tooltip=\"Click me\").add_to(m)\n",
    "m"
   ]
  },
  {
   "cell_type": "markdown",
   "id": "5b77a190-d00b-4aaf-bc67-c77f7deee438",
   "metadata": {},
   "source": [
    "Unter [Quickstart](https://python-visualization.github.io/folium/quickstart.html#Markers) findest du weitere Beispiele von möglichen Markern.\n",
    "\n",
    "## Daten Visualisieren\n",
    "\n",
    "Wir können `folium` zusammen mit `pandas` verwenden um Daten auf einer Karte zu visualisieren."
   ]
  },
  {
   "cell_type": "code",
   "execution_count": null,
   "id": "e191c8a4-b898-4d55-becd-e478533b8550",
   "metadata": {},
   "outputs": [],
   "source": [
    "import folium\n",
    "import pandas as pd"
   ]
  },
  {
   "cell_type": "markdown",
   "id": "25579b68-285b-4984-96d0-3be80a231ec0",
   "metadata": {},
   "source": [
    "Neben den beiden Modulen benötigen wir weiter \n",
    "\n",
    "- eine GeoJSON Datei\n",
    "- eine CSV Datei\n",
    "\n",
    "Für dieses Übung haben wir bereits entsprechende Dateien vorbereitet. \n",
    "\n",
    "Um sicherzustellen, das sich nicht Marker usw. von vorherigen Aufgaben einschleichen, erstellen wir eine neue Karte"
   ]
  },
  {
   "cell_type": "code",
   "execution_count": null,
   "id": "e921e6a6-9a61-49aa-a6dd-3e249f80a163",
   "metadata": {
    "tags": []
   },
   "outputs": [],
   "source": [
    "kantone_map = folium.Map(location=[46.8, 8.33], zoom_start=7)\n",
    "kantone_map"
   ]
  },
  {
   "cell_type": "markdown",
   "id": "ab470a1d-084d-4ef5-9435-b456d1a79e58",
   "metadata": {},
   "source": [
    "Im nächsten Schritt geben wir den Pfad zu einer GeoJSON Datei an."
   ]
  },
  {
   "cell_type": "code",
   "execution_count": null,
   "id": "0d0a7cf9-450b-484e-b3d1-5459536a012e",
   "metadata": {},
   "outputs": [],
   "source": [
    "kantone_geo = \"data/kantone.geojson\""
   ]
  },
  {
   "cell_type": "markdown",
   "id": "1b3ff4e0-36ff-4014-9456-894ed2731ef2",
   "metadata": {},
   "source": [
    "diese beinhaltet die Geometrie der Schweizer Kantone.\n",
    "\n",
    "> Wird die [Datei](data/kantone.geojson) im JupyterLab geöffnet, können die Daten direkt mittels des GeoJSON Widget betrachtet werden. \n",
    "\n",
    "Nun wird eine CSV Datei geladen:"
   ]
  },
  {
   "cell_type": "code",
   "execution_count": null,
   "id": "b135fffe-d1cf-4b32-bf35-c4ccd280c68d",
   "metadata": {},
   "outputs": [],
   "source": [
    "kantone_csv = \"data/kantone.csv\"\n",
    "kantone_data = pd.read_csv(kantone_csv)"
   ]
  },
  {
   "cell_type": "markdown",
   "id": "9352dddf-a5eb-4cb5-8b93-ff9cef92af3b",
   "metadata": {},
   "source": [
    "Diese können wir mittels pandas analysieren"
   ]
  },
  {
   "cell_type": "code",
   "execution_count": null,
   "id": "193e0b78-856a-48f2-915e-290cea4b7807",
   "metadata": {},
   "outputs": [],
   "source": [
    "kantone_data.head()"
   ]
  },
  {
   "cell_type": "markdown",
   "id": "00c498f7-9378-4d3a-8ab1-0938ecb80b26",
   "metadata": {},
   "source": [
    "Folgendermassen lassen sich die `Density` Informationen auf der Karte darstellen"
   ]
  },
  {
   "cell_type": "code",
   "execution_count": null,
   "id": "2a38d5c0-8992-42d3-a43a-21c5a673d4f2",
   "metadata": {
    "tags": []
   },
   "outputs": [],
   "source": [
    "folium.Choropleth(\n",
    "    geo_data=kantone_geo,\n",
    "    name=\"choropleth\",\n",
    "    data=kantone_data,\n",
    "    columns=['CantonNumber', 'Density'],\n",
    "    key_on='feature.properties.KANTONSNUM',\n",
    "    legend_name=\"Density\",\n",
    ").add_to(kantone_map)\n",
    "kantone_map"
   ]
  },
  {
   "cell_type": "markdown",
   "id": "0300f788-88cd-488b-85ea-ada24b644127",
   "metadata": {},
   "source": [
    "Die Ausgabe scheint sehr einfarbig. Bevor wir uns diesem Problem annehmen, betrachten wir was genau passiert. Die Zeile\n",
    "\n",
    "```python\n",
    "    columns=['CantonNumber', 'Density'],\n",
    "```\n",
    "\n",
    "legt fest, welche Spalten des Dataframes `kantone_data` verwendet werden sollen und mittels\n",
    "\n",
    "```python\n",
    "    key_on='feature.properties.KANTONSNUM',\n",
    "```\n",
    "\n",
    "wird definiert wie `folium` die Daten des DataFrames, `kantone_data`, mit den GeoJSON Objekten verbinden soll, aus der Dokumentation:\n",
    "\n",
    "> If data is passed as a Pandas DataFrame, the “columns” and “key-on” gk-keywords must be included, the first to indicate which DataFrame columns to use, the second to indicate the layer in the GeoJSON on which to key the data. The ‘columns’ keyword does not need to be passed for a Pandas series.\n",
    ">\n",
    "> [Link](https://python-visualization.github.io/folium/modules.html#module-folium.features)\n",
    "\n",
    "\n",
    "In diesem Fall soll also die Spalte `'CantonNumber'` mit `'feature.properties.KANTONSNUM'` verbunden werden. \n",
    "\n",
    "### Binning\n",
    "\n",
    "Analysieren wir nun das Farbproblem. Gemäss der Dokumentation:\n",
    "\n",
    "> Colors are generated from color brewer (http://colorbrewer2.org/) sequential palettes. By default, linear binning is used between the min and the max of the values. Custom binning can be achieved with the `bins` parameter.\n",
    ">\n",
    "> [folium](https://python-visualization.github.io/folium/modules.html#module-folium.features) \n",
    "\n",
    "Möglicherweise kommt es zu einem Problem weil unsere Werte nicht gleichmässig verteilt sind? Nutzen wir unsere `pandas` Skills für eine Situationsanalyse\n",
    "\n",
    "<div class=\"gk-exercise\">\n",
    "\n",
    "<img src=\"https://i.imgur.com/JyhBeDB.png\" class=\"gk-exercise-image\">\n",
    "\n",
    "<span class=\"gk-exercise-label\">Aufgabe</span> \n",
    "\n",
    "Erstelle ein Liniendiagramm der Spalte `Density`\n",
    "\n",
    "<details>\n",
    "<summary>Tipps</summary>\n",
    "    Verwende die <code>.plot()</code> Methode.\n",
    "</details>\n",
    "\n",
    "</div>"
   ]
  },
  {
   "cell_type": "code",
   "execution_count": null,
   "id": "20184bb5-ceb1-4497-b676-991719246e0b",
   "metadata": {
    "deletable": false,
    "nbgrader": {
     "cell_type": "code",
     "checksum": "1f5ba224635635b221f736066282633d",
     "grade": false,
     "grade_id": "cell-ce3f349b80a960b7",
     "locked": false,
     "schema_version": 3,
     "solution": true,
     "task": false
    },
    "tags": []
   },
   "outputs": [],
   "source": [
    "# YOUR CODE HERE"
   ]
  },
  {
   "cell_type": "markdown",
   "id": "da6ecdcf-4869-4ae2-b10e-9a265fd9e0dc",
   "metadata": {},
   "source": [
    "***"
   ]
  },
  {
   "cell_type": "markdown",
   "id": "129fb174-c84f-42e2-92a7-43a9b47c7cc0",
   "metadata": {},
   "source": [
    "Tatsächlich befinden sich die meisten Werte im Bereich zwischen `0` bis `1000`. Scheinbar funktioniert das standardmässige `linear binning` in diesen Fällen suboptimal. \n",
    "\n",
    "Um nun die farbliche Unterscheidung zu verbessern, können wir mittels der [`quantile`](https://pandas.pydata.org/docs/reference/api/pandas.DataFrame.quantile.html) Methode von pandas eine Liste `bins` generieren, welche wir anschliessen der Funktion `Choropleth` übergeben können:"
   ]
  },
  {
   "cell_type": "code",
   "execution_count": null,
   "id": "65abb2ba-177d-4bd7-9b63-224105fce1cf",
   "metadata": {
    "tags": []
   },
   "outputs": [],
   "source": [
    "bins = list(kantone_data[\"Density\"].quantile([0, 0.25, 0.5, 0.75, 1]))\n",
    "\n",
    "kantone_map = folium.Map(location=[46.8, 8.33], zoom_start=7)\n",
    "folium.Choropleth(\n",
    "    geo_data=kantone_geo,\n",
    "    name=\"choropleth\",\n",
    "    data=kantone_data,\n",
    "    columns=['CantonNumber', 'Density'],\n",
    "    key_on='feature.properties.KANTONSNUM',\n",
    "    bins=bins,\n",
    "    legend_name=\"Density\",\n",
    ").add_to(kantone_map)\n",
    "kantone_map"
   ]
  },
  {
   "cell_type": "markdown",
   "id": "47241bef-f150-49d1-93a6-8b9bd8cfd422",
   "metadata": {
    "jp-MarkdownHeadingCollapsed": true,
    "tags": []
   },
   "source": [
    "Dadurch sind die verschiedenen Werte visuell besser unterscheidbar.\n",
    "\n",
    "<div class=\"gk-exercise\">\n",
    "\n",
    "<img src=\"https://i.imgur.com/JyhBeDB.png\" class=\"gk-exercise-image\">\n",
    "\n",
    "<span class=\"gk-exercise-label\">Aufgabe</span> \n",
    "\n",
    "- Wähle eine andere Spalte im Dataframe `kantone_data` und visualisiere diese auf der Karte.\n",
    "- Evtl. ist ebenfalls ein Binning notwendig, dokumentiere mittels Markdown Zellen deine Überlegungen. \n",
    "\n",
    "</div>"
   ]
  },
  {
   "cell_type": "code",
   "execution_count": null,
   "id": "f91cfb3e-18cc-4fa1-a352-32a9e548544d",
   "metadata": {
    "deletable": false,
    "nbgrader": {
     "cell_type": "code",
     "checksum": "713514a5051b64a8b405c3a875e44f3e",
     "grade": false,
     "grade_id": "cell-69e150101f020a0d",
     "locked": false,
     "schema_version": 3,
     "solution": true,
     "task": false
    },
    "tags": []
   },
   "outputs": [],
   "source": [
    "# YOUR CODE HERE"
   ]
  },
  {
   "cell_type": "markdown",
   "id": "c6718a44-730a-49ab-b245-6215c07e541a",
   "metadata": {},
   "source": [
    "***"
   ]
  },
  {
   "cell_type": "markdown",
   "id": "1d2962e9-38d9-4c11-9a76-d6a8899f0207",
   "metadata": {
    "tags": []
   },
   "source": [
    "# GeoPandas\n",
    "\n",
    "Als letztes Thema wird GeoPandas vorgestellt:\n",
    "\n",
    "> GeoPandas is an open source project to make working with geospatial data in python easier. GeoPandas extends the datatypes used by pandas to allow spatial operations on geometric types. [...]\n",
    "> \n",
    "> Weitere Infromationen zu `GeoPandas` auf der [Projekt Seite](https://geopandas.org/en/stable/)\n",
    "\n",
    "GeoPandas erlaubt uns also unser Wissen von Pandas auf GeoJSON Dateien anzuwenden. Als erstes erstellen wir ein \n",
    "GeoDataFrame:"
   ]
  },
  {
   "cell_type": "code",
   "execution_count": null,
   "id": "21da3000-eb06-4edb-8cd3-b237918cc2b2",
   "metadata": {},
   "outputs": [],
   "source": [
    "import geopandas as gpd\n",
    "\n",
    "df = gpd.read_file('data/kantone.geojson')"
   ]
  },
  {
   "cell_type": "markdown",
   "id": "873634d4-de9a-4b66-aa5a-2a4435bfbb84",
   "metadata": {},
   "source": [
    "Wie gewohnt können wir uns mittels der Methode `head` einen ersten Überblick verschaffen"
   ]
  },
  {
   "cell_type": "code",
   "execution_count": null,
   "id": "7c7ca1e2-1da5-416d-859c-575b5d3a19c2",
   "metadata": {
    "tags": []
   },
   "outputs": [],
   "source": [
    "df.head()"
   ]
  },
  {
   "cell_type": "markdown",
   "id": "9e94c194-b269-48ac-92b1-243b16901680",
   "metadata": {},
   "source": [
    "Unter den letztem Spalten befinden sich die folgenden Spalten: `EINWOHNERZ` und `KANTONSFLA`. Dadurch sollte sich eig. auch die Bevölkerungsdichte pro Kanton berechnen lassen\n",
    "\n",
    "<div class=\"gk-exercise\">\n",
    "\n",
    "<img src=\"https://i.imgur.com/JyhBeDB.png\" class=\"gk-exercise-image\">\n",
    "\n",
    "<span class=\"gk-exercise-label\">Aufgabe</span> \n",
    "\n",
    "Erstelle eine neue Spalte `DICHTE`\n",
    "\n",
    "<details>\n",
    "<summary>Tipps</summary>\n",
    "    Die Dichte lässt sich berechnen als: <code>EINWOHNERZ</code> / <code>KANTONSFLA</code>\n",
    "</details>\n",
    "</div>"
   ]
  },
  {
   "cell_type": "code",
   "execution_count": null,
   "id": "2dd745f9-59d4-4570-a1ca-1865adafcf70",
   "metadata": {
    "deletable": false,
    "nbgrader": {
     "cell_type": "code",
     "checksum": "831d16cfa9b636748c1008b86337ff91",
     "grade": false,
     "grade_id": "cell-bbe07c125941c927",
     "locked": false,
     "schema_version": 3,
     "solution": true,
     "task": false
    },
    "tags": []
   },
   "outputs": [],
   "source": [
    "# YOUR CODE HERE"
   ]
  },
  {
   "cell_type": "markdown",
   "id": "f888f55d-4972-4dcf-895a-a935263c3488",
   "metadata": {},
   "source": [
    "***"
   ]
  },
  {
   "cell_type": "markdown",
   "id": "dbcdf2a8-09f8-49f5-920f-6436f5b7d526",
   "metadata": {},
   "source": [
    "Nun können wir dieses Dataframe für unsere Karte verwenden:"
   ]
  },
  {
   "cell_type": "code",
   "execution_count": null,
   "id": "37fe6a79-f15e-4a3c-b513-1325f4ef1155",
   "metadata": {
    "tags": []
   },
   "outputs": [],
   "source": [
    "bins = list(df[\"DICHTE\"].quantile([0, 0.25, 0.5, 0.75, 1]))\n",
    "\n",
    "kantone_map = folium.Map(location=[46.8, 8.33], zoom_start=7)\n",
    "folium.Choropleth(\n",
    "    geo_data=kantone_geo,\n",
    "    name=\"choropleth\",\n",
    "    data=df,\n",
    "    columns=['KANTONSNUM', 'DICHTE'],\n",
    "    key_on='feature.properties.KANTONSNUM',\n",
    "    bins=bins,\n",
    "    legend_name=\"Density\",\n",
    ").add_to(kantone_map)\n",
    "kantone_map"
   ]
  },
  {
   "cell_type": "markdown",
   "id": "0b2d0f63-c197-4453-9c14-18ecee275506",
   "metadata": {},
   "source": [
    "Hier kommt es, trotz [Binning](#Binning), für einige Kantone zu einer nicht zufriedenstellenden Ausgabe. \n",
    "\n",
    "> In diesem Abschnitt wird erklärt wie in solchen Fällen vorgegangen werden kann. \n",
    "\n",
    "Um zu verstehen was hier passiert betrachten wir einen Kanton bei dem die Farbe nicht passt:"
   ]
  },
  {
   "cell_type": "code",
   "execution_count": null,
   "id": "d603cd2d-9dc2-486d-b6a2-0508cc794987",
   "metadata": {
    "tags": []
   },
   "outputs": [],
   "source": [
    "df[df.NAME == \"Bern\"]"
   ]
  },
  {
   "cell_type": "markdown",
   "id": "a7487469-0625-4fbb-ad14-42e7b125913a",
   "metadata": {},
   "source": [
    "Scheinbar gibt es mehrere Einträge für Bern. Von diesen drei Zeilen enthält jedoch nur eine Werte in den Spalten `EINWOHNERZ` und `KANTONSFLA`:"
   ]
  },
  {
   "cell_type": "code",
   "execution_count": null,
   "id": "c48e7bfa-a6ac-4614-9faf-c1f8a0ee05a8",
   "metadata": {},
   "outputs": [],
   "source": [
    "df[(df.NAME == \"Bern\") & df.KANTONSFLA.notnull() & df.EINWOHNERZ.notnull()]"
   ]
  },
  {
   "cell_type": "markdown",
   "id": "81beabb2-b066-4e88-bae7-4fb19989ae19",
   "metadata": {},
   "source": [
    "> Mittels `&` lassen sich mehrere Filter auf ein DataFrame anwenden. Alternativ können auch die einzelnen Filter, durch das verwenden von temporären Variablen, angewendet werden, z.B.\n",
    "\n",
    "```pyhton\n",
    "df_bern = df[(df.NAME == \"Bern\")]\n",
    "df_bern_kantonfla_not_null = df_bern[df_bern.KANTONSFLA.notnull()]\n",
    "...\n",
    "```\n",
    "\n",
    "Das führt zu folgender These:\n",
    "\n",
    "> Wenn wir nur noch Zeilen betrachten, welche Werte, in den Spalten `EINWOHNERZ` und `KANTONSFLA` enthalten, d.h. `KANTONSFLA.notnull()` und `EINWOHNERZ.notnull()`, erhalten wir die gewünschte Ausgabe auf der Karte:"
   ]
  },
  {
   "cell_type": "code",
   "execution_count": null,
   "id": "a6d50e34-a3cf-4352-a7d7-70f2bb67c4e8",
   "metadata": {
    "tags": []
   },
   "outputs": [],
   "source": [
    "tmp_df = df[df.KANTONSFLA.notnull() & df.EINWOHNERZ.notnull()]\n",
    "bins = list(tmp_df[\"DICHTE\"].quantile([0, 0.25, 0.5, 0.75, 1]))\n",
    "\n",
    "kantone_map = folium.Map(location=[46.8, 8.33], zoom_start=7)\n",
    "folium.Choropleth(\n",
    "    geo_data=kantone_geo,\n",
    "    name=\"choropleth\",\n",
    "    data=tmp_df,\n",
    "    columns=['KANTONSNUM', 'DICHTE'],\n",
    "    key_on='feature.properties.KANTONSNUM',\n",
    "    bins=bins,\n",
    "    legend_name=\"Density\",\n",
    ").add_to(kantone_map)\n",
    "kantone_map"
   ]
  },
  {
   "cell_type": "markdown",
   "id": "74450f6f-3937-47a7-b9ea-670a41fae831",
   "metadata": {},
   "source": [
    "Voila!"
   ]
  },
  {
   "cell_type": "markdown",
   "id": "e1834919-4e20-40ec-bd83-a56816fedd6e",
   "metadata": {},
   "source": [
    "## Geometrien\n",
    "\n",
    "Mittels `geopandas` können wir auch auf einzelne Geometrien, d.h. in unserem Fall Kantone zugreifen:"
   ]
  },
  {
   "cell_type": "code",
   "execution_count": null,
   "id": "f037f282-429e-4c16-81ae-f26f3777eff8",
   "metadata": {},
   "outputs": [],
   "source": [
    "tmp_df.geometry[1]"
   ]
  },
  {
   "cell_type": "markdown",
   "id": "94c50995-7b64-4d2f-aff5-f68f904d183c",
   "metadata": {},
   "source": [
    "> Wir werden ab hier nur noch mit `tmp_df` arbeiten um doppelte Kantone auszuschliessen.\n",
    "\n",
    "Weiter können wir uns auch den Mittelpunkt einer Geometrie anzeigen lassen"
   ]
  },
  {
   "cell_type": "code",
   "execution_count": null,
   "id": "d9ddc4f5-9d33-46c3-a29b-4f6f240a312e",
   "metadata": {},
   "outputs": [],
   "source": [
    "bern = tmp_df.geometry[1]\n",
    "bern.centroid"
   ]
  },
  {
   "cell_type": "markdown",
   "id": "f9630e92-4e76-48bf-a5be-74d10b98f5b8",
   "metadata": {},
   "source": [
    "Okei das ist nicht sehr aufschlussreich, aber evtl. hat das Objekt ja interessante Attribute:"
   ]
  },
  {
   "cell_type": "code",
   "execution_count": null,
   "id": "da2282dd-84f1-4267-a548-514239f34145",
   "metadata": {
    "tags": []
   },
   "outputs": [],
   "source": [
    "dir(bern.centroid)"
   ]
  },
  {
   "cell_type": "markdown",
   "id": "e96d76f5-5c5f-4140-b654-940aabbd31b1",
   "metadata": {},
   "source": [
    "Ganz zum Schluss dieser Liste finden wir die Attribute `x` und `y`. Damit können wir etwas anfangen!"
   ]
  },
  {
   "cell_type": "markdown",
   "id": "b950b578-b6e0-435b-b5d4-a6cd8708c43d",
   "metadata": {},
   "source": [
    "# Schlussaufgabe\n",
    "\n",
    "Füge der vorherigen Karte für jeden Kanton einen Marker hinzu. Dieser soll:\n",
    "\n",
    "- Sich im Zentrum des Kanton befindet\n",
    "- Im Popup **mind.** die entsprechende Bevölkerungsdichte anzeigen\n",
    "\n",
    "<details>\n",
    "    <summary>Tipps</summary>\n",
    "    Mittels <code>for kanton in tmp_df.index</code> kannst durch die einzelnen Zeilen iterieren.\n",
    "    <details>\n",
    "        <summary>Tipp</summary>\n",
    "        Um den Mittelpunkt pro Zeile zu erhalten kannst du folgenden Code verwenden: \n",
    "        <code>tmp_df.geometry[kanton].centroid</code>\n",
    "    </details>\n",
    "    <details>\n",
    "        <summary>Tipp</summary>\n",
    "        <code>lon</code> entspricht dem <code>x</code> Attribut und <code>lan</code> dem <code>y</code> Attribut. \n",
    "    </details>\n",
    "    <details>\n",
    "        <summary>Tipp</summary>\n",
    "        Um pro Zeile auf die Spalte <code>DICHTE</code> zuzugreifen kannst du folgenden Code verwenden:\n",
    "        <code>tmp_df['DICHTE'][kanton]</code>\n",
    "    </details>\n",
    "</details>"
   ]
  },
  {
   "cell_type": "code",
   "execution_count": null,
   "id": "e3a10b46-0fca-4f19-ac2f-f8d94ece8e9c",
   "metadata": {
    "deletable": false,
    "nbgrader": {
     "cell_type": "code",
     "checksum": "92362ade98597b3fd401ba342b3158a7",
     "grade": false,
     "grade_id": "cell-8a6698efefd32b21",
     "locked": false,
     "schema_version": 3,
     "solution": true,
     "task": false
    },
    "tags": []
   },
   "outputs": [],
   "source": [
    "# YOUR CODE HERE"
   ]
  },
  {
   "cell_type": "markdown",
   "id": "0af87f5f-8808-4c06-9e2e-5ee479fc507e",
   "metadata": {
    "tags": []
   },
   "source": [
    "# Zusammenfassung\n",
    "\n",
    "In diesem Notebook wurden einige Module aus dem Python Universum vorgestellt, welche sich für das Be/Verarbeiten von geographischen Daten eignen. \n",
    "\n",
    "Im ersten Teil wurde das `GeoJSON` Widget vorgestellt und wir bauten eine kleine Adresssuchfunktion. Daraufhin wurde anhand eines konkreten Datensatz aufgezeigt, wie sich mittels `folium` Daten auf Karten darstellen lassen. Zuletzt wurde das Modul `geopandas` verwendet um direkt auf GeoJSON Dateien Berechnungen durchzuführen.\n",
    "\n",
    "Dabei haben wir nur an der Oberfläche gekratzt. Besonders das Modul `geopandas` bietet noch viele weiter Anwendungsmöglichkeiten, [hier](https://geopandas.org/en/stable/getting_started/introduction.html) ein Einstiegspunkt. "
   ]
  },
  {
   "cell_type": "markdown",
   "id": "a4b3ba8a-d2e5-4f89-b789-c0c2fe06e179",
   "metadata": {
    "tags": []
   },
   "source": [
    "# Impressum\n",
    "\n",
    "<a rel=\"license\" href=\"http://creativecommons.org/licenses/by-sa/4.0/\"><img alt=\"Creative Commons Lizenzvertrag\" style=\"border-width:0\" src=\"https://mirrors.creativecommons.org/presskit/buttons/88x31/svg/by-sa.svg\" /></a><br />Dieses Werk ist lizenziert unter einer <a rel=\"license\" href=\"http://creativecommons.org/licenses/by-sa/4.0/\">Creative Commons Namensnennung - Weitergabe unter gleichen Bedingungen 4.0 International Lizenz</a>.\n",
    "\n",
    "Autoren: [Noe Thalheim](mailto:noe.thalheim@bfh.ch), [Benedikt Hitz-Gamper](mailto:benedikt.hitz@unibe.ch)\n",
    "\n",
    "## Credits\n",
    "\n",
    "- https://rsandstroem.github.io/tag/folium.html\n",
    "- Die GeoJSON Daten wurden aus dem Datensatz [swissBOUNDARIES3D](https://www.swisstopo.admin.ch/de/geodata/landscape/boundaries3d.html#technische_details) von SwissTopo erstellt\n",
    "- https://python-visualization.github.io/folium/quickstart.html\n",
    "- https://stackoverflow.com/a/49008506\n",
    "\n",
    "\n",
    "```\n",
    "I could tell you a joke about UDP.\n",
    "But I don't know if you'd get it.\n",
    "```"
   ]
  },
  {
   "cell_type": "code",
   "execution_count": null,
   "id": "1f2c2845-9d6c-403e-b5fd-8e3885aea8aa",
   "metadata": {},
   "outputs": [],
   "source": []
  }
 ],
 "metadata": {
  "kernelspec": {
   "display_name": "Python 3 (ipykernel)",
   "language": "python",
   "name": "python3"
  },
  "language_info": {
   "codemirror_mode": {
    "name": "ipython",
    "version": 3
   },
   "file_extension": ".py",
   "mimetype": "text/x-python",
   "name": "python",
   "nbconvert_exporter": "python",
   "pygments_lexer": "ipython3",
   "version": "3.10.10"
  }
 },
 "nbformat": 4,
 "nbformat_minor": 5
}
