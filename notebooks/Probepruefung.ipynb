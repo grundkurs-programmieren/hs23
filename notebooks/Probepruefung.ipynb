{
 "cells": [
  {
   "cell_type": "markdown",
   "id": "670dc678-3f90-4d97-81e9-4f14701cbb80",
   "metadata": {},
   "source": [
    "**Probeprüfung**\n",
    "\n",
    "Diese Probeprüfung ist so aufgebaut, dass sie einerseits zeigt, wie das **technische System** bestehend aus Renkulab und ILIAS zu bedienen ist und andererseits, wie die Fragen **inhaltlich** aufgebaut sein könnten.\n",
    "\n",
    "**Anweisungen**\n",
    "\n",
    "Erstellen sie den Quellcode in den dafür vorgesehen Abschnitten der entsprechenden Zellen. **Speichern** sie unbedingt ihr Notebook (Menu \"File/Save Notebook\"), bevor sie es auf ihren Computer **downloaden** (Menu \"File/Download\"). Diese runtergeladene Datei (mit Dateiname \"Probepruefung_HS22.ipynb\") bitte in ILIAS als Lösung abgeben.\n",
    "\n",
    "Nach Abgabe ihrer Lösung über ILIAS, haben sie Zugriff auf ein Notebook mit den Musterlösungen."
   ]
  },
  {
   "cell_type": "markdown",
   "id": "4471ef84-a882-45b1-bb97-ae4de75c714d",
   "metadata": {},
   "source": [
    "# Aufgabe 1\n",
    "\n",
    "Nachfolgend sehen sie ein Dictionary `salary_table`. Definieren sie nach der Zeile  `# YOUR CODE HERE`:\n",
    "\n",
    "* die Funktion `add_salary()` so, dass beim Aufruf von `add_salary(\"Florentina\", 10000)` geprüft wird, ob die Person in `salary_table` bereits existiert. Ist das der Fall, soll die Funktion die Meldung \"Person existiert schon!\" ausgeben, im anderen Fall soll die Person mit Name und Einkommen in `salary_table` eingefügt werden (analog den bestehenden Einträgen) und die Meldung \"Neue Person hinzugefügt!\" ausgegeben werden.\n",
    "* die Funktion `print_salary_table()` so, dass beim Aufrufen der Funktion eine Zusammenfassung von `salary_table` ausgegeben wird in der Form \"Sabine verdient: 6500\" etc.\n",
    "\n",
    "Der erwartete Output beim Ausführen der Zelle mit den vorgegebenen Funktionsaufrufen lautet also:\n",
    "\n",
    "```\n",
    "Person existiert schon!\n",
    "Neue Person hinzugefügt!\n",
    "Sabine verdient: 6500\n",
    "Adalbert verdient: 4560\n",
    "Kaila verdient: 8500\n",
    "Felix verdient: 5500\n",
    "Sigurina verdient: 12500\n",
    "Aisha verdient: 9400\n",
    "```"
   ]
  },
  {
   "cell_type": "code",
   "execution_count": null,
   "id": "987ce9b4-385d-406a-94b1-58c32f4ea2ee",
   "metadata": {},
   "outputs": [],
   "source": [
    "salary_table = {\n",
    "    \"Sabine\": 6500,\n",
    "    \"Adalbert\": 4560,\n",
    "    \"Kaila\": 8500,\n",
    "    \"Felix\": 5500,\n",
    "    \"Sigurina\": 12500\n",
    "}\n",
    "\n",
    "# YOUR CODE HERE\n",
    "\n",
    "\n",
    "\n",
    "add_salary(\"Sabine\", 5000)\n",
    "add_salary(\"Aisha\", 9400)\n",
    "\n",
    "print_salary_table()"
   ]
  },
  {
   "cell_type": "markdown",
   "id": "29e30049-1e38-402f-bf8e-a8b1b64c222e",
   "metadata": {},
   "source": [
    "# Aufgabe 2\n",
    "\n",
    "Schreiben sie in der nachfolgenden Zelle nach `# YOUR CODE HERE` einen Quelltext, der:\n",
    "\n",
    "- per `input()` Funktion nach einer Anzahl fragt\n",
    "- mit Hilfe eines **For Loops** für die soeben erfragte Anzahl, Zufallszahlen zwischen 1 und 6 \"würfelt\"\n",
    "- den Mittelwert aller \"gewürfelten\" Zahlen berechnet\n",
    "- diesen Mittelwert per `print()` Befehl ausgibt"
   ]
  },
  {
   "cell_type": "code",
   "execution_count": null,
   "id": "b97ed583-03d3-4ea6-a80d-b9c035dad8f7",
   "metadata": {},
   "outputs": [],
   "source": [
    "# YOUR CODE HERE\n",
    "\n"
   ]
  },
  {
   "cell_type": "markdown",
   "id": "eeccee59-233b-4253-85c0-3605e32b1cfd",
   "metadata": {},
   "source": [
    "# Aufgabe 3\n",
    "\n",
    "Schreiben sie in der nachfolgenden Zelle nach `# YOUR CODE HERE` einen Quelltext, der:\n",
    "\n",
    "- in einem **While Loop** mit Hilfe der Funktion `input()` danach fragt, ob weitere Früche der Liste `my_fruits` hinzugefügt werden sollen\n",
    "- falls ja, soll mit einem weiteren `input()` die Frucht eingegeben werden können\n",
    "- falls nein, soll der **While Loop** beendet werden\n",
    "- nach Beendigung des **While Loop** sollen die Anzahl Früchte und die Früchte aus `my_fruits` per `print()` Befehl ausgegeben werden"
   ]
  },
  {
   "cell_type": "code",
   "execution_count": null,
   "id": "840e99df-9522-4183-b4a0-7fb06fbca5b6",
   "metadata": {},
   "outputs": [],
   "source": [
    "my_fruits = [\"Banane\", \"Apfel\", \"Orange\"]\n",
    "\n",
    "# YOUR CODE HERE\n",
    "\n"
   ]
  }
 ],
 "metadata": {
  "kernelspec": {
   "display_name": "Python 3 (ipykernel)",
   "language": "python",
   "name": "python3"
  },
  "language_info": {
   "codemirror_mode": {
    "name": "ipython",
    "version": 3
   },
   "file_extension": ".py",
   "mimetype": "text/x-python",
   "name": "python",
   "nbconvert_exporter": "python",
   "pygments_lexer": "ipython3",
   "version": "3.9.6"
  }
 },
 "nbformat": 4,
 "nbformat_minor": 5
}
